{
 "cells": [
  {
   "cell_type": "markdown",
   "metadata": {},
   "source": [
    "# Machine Learning Stock Market Analyzer\n",
    "Actual trading scripts will be later implemented (potentially through a seperate program). As of right now, this program just aims to predict future prices.\n",
    "\n",
    "Potential Limitations/Bottlenecks: Yahoo API support for small intervals & rate limiting for large datasets\n",
    "\n",
    "#### Necessary Packages\n"
   ]
  },
  {
   "cell_type": "code",
   "execution_count": 17,
   "metadata": {},
   "outputs": [],
   "source": [
    "# -- Data Collection -- \n",
    "import pandas as pd\n",
    "import yfinance as yf\n",
    "import matplotlib as plt\n",
    "import numpy as np\n",
    "\n",
    "# -- Data Cleaning & Preparation --\n",
    "#//Necessary Libraries Here, will add as needed\n",
    "\n",
    "# -- Shallow ML Models --\n",
    "\n",
    "# Testing Accuracy\n",
    "from sklearn.metrics import mean_squared_error, r2_score\n",
    "from sklearn.preprocessing import StandardScaler\n",
    "from sklearn.model_selection import train_test_split\n",
    "import time\n",
    "\n",
    "# Simple Linear Regression (Predicting Values)\n",
    "from sklearn.linear_model import LinearRegression\n",
    "\n",
    "# SGD Regression (Predicting Values)\n",
    "from sklearn.linear_model import SGDRegressor\n",
    "\n",
    "# Ridge Regression (Predicting Values, assuming <100k samples)\n",
    "from sklearn.kernel_ridge import KernelRidge\n",
    "\n",
    "# SVR Regression (Predicting Values, kernel dependant on sample size)\n",
    "from sklearn.svm import SVR\n",
    "\n",
    "# SGD Classifier (Classifying movement, assuming >100k samples)\n",
    "from sklearn.linear_model import SGDClassifier #(Be careful with feature scaling)\n",
    "\n",
    "# Kernel Approximation (Classifying movement, assuming >100k samples)\n",
    "from sklearn.kernel_approximation import RBFSampler\n",
    "from sklearn.kernel_approximation import PolynomialCountSketch #*\n",
    "\n",
    "# Linear SVC (Classifying movement, assuming <100k samples)\n",
    "from sklearn import svm\n",
    "\n",
    "# KNeighbors Classification (Classifying Movement, assuming <100k samples)\n",
    "from sklearn.neighbors import KNeighborsClassifier #Could also add regressor\n",
    "\n",
    "#Decision Trees (Predicting Price & Classifying Movement, Good Visual)\n",
    "from sklearn.tree import DecisionTreeClassifier\n",
    "from sklearn.tree import DecisionTreeRegressor\n",
    "\n",
    "# -- Deep ML Model --\n",
    "#Will utilize tensorflow, will need to learn more about first\n",
    "#Recurrent Neural Network & Convolutional Neural Network Hybrid\n",
    "#Temporal Convolutional Networks\n",
    "#Long Short-Term Memory Networks (Little Data)\n",
    "#Gated Recurrent Unit (GRU) Networks (More Data)\n"
   ]
  },
  {
   "cell_type": "markdown",
   "metadata": {},
   "source": [
    "#### Basic Data Collection"
   ]
  },
  {
   "cell_type": "code",
   "execution_count": 25,
   "metadata": {},
   "outputs": [
    {
     "name": "stdout",
     "output_type": "stream",
     "text": [
      "                                 Open        High         Low       Close  \\\n",
      "Date                                                                        \n",
      "1980-12-12 00:00:00-05:00    0.099058    0.099488    0.099058    0.099058   \n",
      "1980-12-15 00:00:00-05:00    0.094321    0.094321    0.093890    0.093890   \n",
      "1980-12-16 00:00:00-05:00    0.087429    0.087429    0.086999    0.086999   \n",
      "1980-12-17 00:00:00-05:00    0.089152    0.089582    0.089152    0.089152   \n",
      "1980-12-18 00:00:00-05:00    0.091737    0.092167    0.091737    0.091737   \n",
      "...                               ...         ...         ...         ...   \n",
      "2024-06-05 00:00:00-04:00  195.399994  196.899994  194.869995  195.869995   \n",
      "2024-06-06 00:00:00-04:00  195.690002  196.500000  194.169998  194.479996   \n",
      "2024-06-07 00:00:00-04:00  194.649994  196.940002  194.139999  196.889999   \n",
      "2024-06-10 00:00:00-04:00  196.899994  197.300003  192.149994  193.119995   \n",
      "2024-06-12 00:00:00-04:00  207.360001  220.199997  206.910004  213.070007   \n",
      "\n",
      "                              Volume  \n",
      "Date                                  \n",
      "1980-12-12 00:00:00-05:00  469033600  \n",
      "1980-12-15 00:00:00-05:00  175884800  \n",
      "1980-12-16 00:00:00-05:00  105728000  \n",
      "1980-12-17 00:00:00-05:00   86441600  \n",
      "1980-12-18 00:00:00-05:00   73449600  \n",
      "...                              ...  \n",
      "2024-06-05 00:00:00-04:00   54156800  \n",
      "2024-06-06 00:00:00-04:00   41181800  \n",
      "2024-06-07 00:00:00-04:00   53103900  \n",
      "2024-06-10 00:00:00-04:00   97262100  \n",
      "2024-06-12 00:00:00-04:00  194031540  \n",
      "\n",
      "[10965 rows x 5 columns]\n"
     ]
    }
   ],
   "source": [
    "ticker_symbol = 'AAPL' #Placeholder for now\n",
    "t_period = \"max\" #Time Period to test, For testing purposes\n",
    "t_interval = \"1d\" #Intervals to collect data for, For testing purposes\n",
    "\n",
    "ticker = yf.Ticker(ticker_symbol)\n",
    "historical_data = ticker.history(period=t_period, interval=t_interval, actions=False, auto_adjust=True)\n",
    "print(historical_data) #Testing"
   ]
  },
  {
   "cell_type": "markdown",
   "metadata": {},
   "source": [
    "#### Reformatting the Dataframe"
   ]
  },
  {
   "cell_type": "markdown",
   "metadata": {},
   "source": [
    "Shifting to include previous high, previous low, etc."
   ]
  },
  {
   "cell_type": "code",
   "execution_count": 27,
   "metadata": {},
   "outputs": [
    {
     "name": "stdout",
     "output_type": "stream",
     "text": [
      "             open   prev_high    prev_low  prev_volume      Close   prev_open  \\\n",
      "1        0.094321    0.099488    0.099058     0.099058  175884800    0.099058   \n",
      "2        0.087429    0.094321    0.093890     0.093890  105728000    0.094321   \n",
      "3        0.089152    0.087429    0.086999     0.086999   86441600    0.087429   \n",
      "4        0.091737    0.089582    0.089152     0.089152   73449600    0.089152   \n",
      "5        0.097335    0.092167    0.091737     0.091737   48630400    0.091737   \n",
      "...           ...         ...         ...          ...        ...         ...   \n",
      "10960  195.399994  195.320007  193.029999   194.350006   54156800  194.639999   \n",
      "10961  195.690002  196.899994  194.869995   195.869995   41181800  195.399994   \n",
      "10962  194.649994  196.500000  194.169998   194.479996   53103900  195.690002   \n",
      "10963  196.899994  196.940002  194.139999   196.889999   97262100  194.649994   \n",
      "10964  207.360001  197.300003  192.149994   193.119995  194031540  196.899994   \n",
      "\n",
      "       prev_close  \n",
      "1        0.099058  \n",
      "2        0.093890  \n",
      "3        0.086999  \n",
      "4        0.089152  \n",
      "5        0.091737  \n",
      "...           ...  \n",
      "10960  194.350006  \n",
      "10961  195.869995  \n",
      "10962  194.479996  \n",
      "10963  196.889999  \n",
      "10964  193.119995  \n",
      "\n",
      "[10964 rows x 7 columns]\n"
     ]
    }
   ],
   "source": [
    "if len(historical_data.columns) == 5:\n",
    "    # Renaming Columns \n",
    "    historical_data['prev_open'] = historical_data['Open']\n",
    "    historical_data['prev_close'] = historical_data['Close']\n",
    "    historical_data.columns = ['open', 'prev_high', 'prev_low', 'prev_volume', 'Close', 'prev_open', 'prev_close']\n",
    "\n",
    "    #Creating a dummy row for shifting\n",
    "    empty_row = pd.DataFrame([None] * len(historical_data.columns)).T #Creating an empty row to concatonate\n",
    "    empty_row.columns = historical_data.columns\n",
    "    historical_data = pd.concat([historical_data, empty_row], ignore_index=True)\n",
    "    #Shifting down all statistics for previous days\n",
    "    historical_data['prev_high'] = historical_data['prev_high'].shift(1)\n",
    "    historical_data['prev_low'] = historical_data['prev_low'].shift(1)\n",
    "    historical_data['prev_close'] = historical_data['prev_close'].shift(1)\n",
    "    historical_data['prev_volume'] = historical_data['prev_volume'].shift(1)\n",
    "    historical_data['prev_open'] = historical_data['prev_open'].shift(1)\n",
    "    #Dropping the newly formed empty columns\n",
    "    historical_data = historical_data.dropna()\n",
    "\n",
    "print(historical_data)"
   ]
  },
  {
   "cell_type": "markdown",
   "metadata": {},
   "source": [
    "Converting to numpy array for increased efficiency. Although most models do this internally anyways, can reduce overhead"
   ]
  },
  {
   "cell_type": "code",
   "execution_count": 29,
   "metadata": {},
   "outputs": [],
   "source": [
    "x_df = historical_data[['open', 'prev_high', 'prev_low', 'prev_volume', 'prev_open', 'prev_close']]\n",
    "y_df = historical_data[['Close']] #Target Value to be Specified\n",
    "\n",
    "x = x_df.to_numpy\n",
    "target = y_df.to_numpy"
   ]
  },
  {
   "cell_type": "markdown",
   "metadata": {},
   "source": [
    "## Shallow Models - Regression\n",
    "\n",
    "#### Benchmarking Functions"
   ]
  },
  {
   "cell_type": "code",
   "execution_count": null,
   "metadata": {},
   "outputs": [],
   "source": [
    "def test_model(): #Should add explicit return type when finished\n",
    "    start_time = time.time()\n",
    "    end_time = time.time()\n",
    "    elasped_time = end_time - start_time\n",
    "    print(f\"Duration of Execution: {elasped_time} seconds\")\n",
    "    return 'UNFINISHED'"
   ]
  },
  {
   "cell_type": "markdown",
   "metadata": {},
   "source": [
    "#### Simple Linear Regression Model"
   ]
  },
  {
   "cell_type": "code",
   "execution_count": null,
   "metadata": {},
   "outputs": [],
   "source": []
  }
 ],
 "metadata": {
  "kernelspec": {
   "display_name": "base",
   "language": "python",
   "name": "python3"
  },
  "language_info": {
   "codemirror_mode": {
    "name": "ipython",
    "version": 3
   },
   "file_extension": ".py",
   "mimetype": "text/x-python",
   "name": "python",
   "nbconvert_exporter": "python",
   "pygments_lexer": "ipython3",
   "version": "3.11.7"
  }
 },
 "nbformat": 4,
 "nbformat_minor": 2
}
