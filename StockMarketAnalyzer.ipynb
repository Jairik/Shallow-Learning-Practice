{
 "cells": [
  {
   "cell_type": "markdown",
   "metadata": {},
   "source": [
    "# Machine Learning Stock Market Analyzer\n",
    "Actual trading scripts will be later implemented (potentially through a seperate program). As of right now, this program just aims to predict future prices.\n",
    "\n",
    "Potential Limitations/Bottlenecks: Yahoo API support for small intervals & rate limiting for large datasets\n",
    "\n",
    "#### Necessary Packages\n"
   ]
  },
  {
   "cell_type": "code",
   "execution_count": 2,
   "metadata": {},
   "outputs": [],
   "source": [
    "# -- Data Collection -- \n",
    "import pandas as pd\n",
    "import yfinance as yf\n",
    "import matplotlib as plt\n",
    "\n",
    "# -- Data Cleaning & Preparation --\n",
    "#//Necessary Libraries Here, will add as needed\n",
    "\n",
    "# -- Shallow ML Models --\n",
    "\n",
    "# Testing Accuracy\n",
    "from sklearn.metrics import mean_squared_error, r2_score\n",
    "from sklearn.preprocessing import StandardScaler\n",
    "from sklearn.model_selection import train_test_split\n",
    "\n",
    "# Simple Linear Regression (Predicting Values)\n",
    "from sklearn.linear_model import LinearRegression\n",
    "\n",
    "# SGD Regression (Predicting Values)\n",
    "from sklearn.linear_model import SGDRegressor\n",
    "\n",
    "# Lasso Regression (Predicting Values, if >100k samples. Likely not the best solution)\n",
    "from sklearn.linear_model import Lasso\n",
    "\n",
    "# Ridge Regression (Predicting Values, assuming <100k samples)\n",
    "from sklearn.kernel_ridge import KernelRidge\n",
    "\n",
    "# SVR Regression (Predicting Values, kernel dependant on sample size)\n",
    "from sklearn.svm import SVR\n",
    "\n",
    "# SGD Classifier (Classifying movement, assuming >100k samples)\n",
    "from sklearn.linear_model import SGDClassifier #(Be careful with feature scaling)\n",
    "\n",
    "# Kernel Approximation (Classifying movement, assuming >100k samples)\n",
    "from sklearn.kernel_approximation import RBFSampler\n",
    "from sklearn.kernel_approximation import PolynomialCountSketch #*\n",
    "\n",
    "# Linear SVC (Classifying movement, assuming <100k samples)\n",
    "from sklearn import svm\n",
    "\n",
    "# KNeighbors Classification (Classifying Movement, assuming <100k samples)\n",
    "from sklearn.neighbors import KNeighborsClassifier #Could also add regressor\n",
    "\n",
    "\n",
    "# -- Deep ML Model --\n",
    "#Will utilize tensorflow, will need to learn more about first"
   ]
  },
  {
   "cell_type": "markdown",
   "metadata": {},
   "source": [
    "#### Basic Data Collection"
   ]
  },
  {
   "cell_type": "code",
   "execution_count": null,
   "metadata": {},
   "outputs": [],
   "source": [
    "ticker_symbol = 'AAPL' #Placeholder for now\n",
    "t_period = \"6mo\" #Time Period to test, For testing purposes\n",
    "t_interval = \"1h\" #Intervals to collect data for, For testing purposes\n",
    "\n",
    "ticker = yf.Ticker(ticker_symbol)\n",
    "historical_data = ticker.history(period=t_period, interval=t_interval, actions=False, auto_adjust=True)\n",
    "print(historical_data) #Testing"
   ]
  },
  {
   "cell_type": "markdown",
   "metadata": {},
   "source": [
    "#### Basic Reformatting of the Dataframe"
   ]
  },
  {
   "cell_type": "code",
   "execution_count": null,
   "metadata": {},
   "outputs": [],
   "source": [
    "#Basically just shift 'open' down, rename columns if necessary, then drop the remaining row."
   ]
  }
 ],
 "metadata": {
  "kernelspec": {
   "display_name": "base",
   "language": "python",
   "name": "python3"
  },
  "language_info": {
   "codemirror_mode": {
    "name": "ipython",
    "version": 3
   },
   "file_extension": ".py",
   "mimetype": "text/x-python",
   "name": "python",
   "nbconvert_exporter": "python",
   "pygments_lexer": "ipython3",
   "version": "3.11.7"
  }
 },
 "nbformat": 4,
 "nbformat_minor": 2
}
