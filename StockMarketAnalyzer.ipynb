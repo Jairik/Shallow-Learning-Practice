{
 "cells": [
  {
   "cell_type": "markdown",
   "metadata": {},
   "source": [
    "# Machine Learning Stock Market Trader\n",
    "\n",
    "This will serve as a guide to the program, updating everytime substantial progress has been made\n",
    "\n",
    "Current Sprint:\n",
    "    1- Simply visualize (line graph) market data\n",
    "    2- Add other simple statistics such as 5-day MA, 30-day MA, ect.\n",
    "    3- Add advanced indicators\n",
    "Next Sprint:\n",
    "    - Formulate simple Linear Regression Model\n",
    "        -> Optimize the hell out of it\n"
   ]
  }
 ],
 "metadata": {
  "kernelspec": {
   "display_name": "base",
   "language": "python",
   "name": "python3"
  },
  "language_info": {
   "codemirror_mode": {
    "name": "ipython",
    "version": 3
   },
   "file_extension": ".py",
   "mimetype": "text/x-python",
   "name": "python",
   "nbconvert_exporter": "python",
   "pygments_lexer": "ipython3",
   "version": "3.11.7"
  }
 },
 "nbformat": 4,
 "nbformat_minor": 2
}
